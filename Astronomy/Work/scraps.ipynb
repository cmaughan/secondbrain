{
 "cells": [
  {
   "cell_type": "code",
   "execution_count": null,
   "metadata": {},
   "outputs": [],
   "source": [
    "%%script false --no-raise-error\n",
    "def send_radial_gaia_query(query_size=1000000, distance=200, **kwargs):\n",
    "    \"\"\"\n",
    "    Sends an archive query for d < 200 pc, with additional filters taken from\n",
    "    Gaia Data Release 2: Observational Hertzsprung-Russell diagrams (Sect. 2.1)\n",
    "    Gaia Collaboration, Babusiaux et al. (2018)\n",
    "    (https://doi.org/10.1051/0004-6361/201832843)\n",
    "\n",
    "    NOTE: 10000000 is a maximum query size (~76 MB / column)\n",
    "\n",
    "    Additional keyword arguments are passed to TapPlus.launch_job_async method.\n",
    "    \"\"\"\n",
    "    from astroquery.utils.tap.core import TapPlus\n",
    "\n",
    "    gaia = TapPlus(url=\"http://gea.esac.esa.int/tap-server/tap\")\n",
    "\n",
    "    job = gaia.launch_job_async(\"select top {}\".format(query_size)+\n",
    "                #\" lum_val, teff_val,\"\n",
    "                #\" ra, dec, parallax,\"\n",
    "                \" bp_rp, phot_g_mean_mag+5*log10(parallax)-10 as mg\"\n",
    "         \" from gaiadr2.gaia_source\"\n",
    "         \" where parallax_over_error > 10\"\n",
    "         \" and visibility_periods_used > 8\"\n",
    "         \" and phot_g_mean_flux_over_error > 50\"\n",
    "         \" and phot_bp_mean_flux_over_error > 20\"\n",
    "         \" and phot_rp_mean_flux_over_error > 20\"\n",
    "         \" and phot_bp_rp_excess_factor <\"\n",
    "            \" 1.3+0.06*power(phot_bp_mean_mag-phot_rp_mean_mag,2)\"\n",
    "         \" and phot_bp_rp_excess_factor >\"\n",
    "            \" 1.0+0.015*power(phot_bp_mean_mag-phot_rp_mean_mag,2)\"\n",
    "         \" and astrometric_chi2_al/(astrometric_n_good_obs_al-5)<\"\n",
    "            \"1.44*greatest(1,exp(-0.4*(phot_g_mean_mag-19.5)))\"\n",
    "         +\" and 1000/parallax <= {}\".format(distance), **kwargs)\n",
    "\n",
    "    return job\n",
    "\n",
    "job = send_radial_gaia_query(dump_to_file=True, output_format=\"csv\",\n",
    "                                 output_file=\"gaia-hrd-dr2-200pc.csv\",\n",
    "                                 query_size=10000000)\n",
    "r = job.get_results()"
   ]
  }
 ],
 "metadata": {
  "language_info": {
   "name": "python"
  },
  "orig_nbformat": 4
 },
 "nbformat": 4,
 "nbformat_minor": 2
}
