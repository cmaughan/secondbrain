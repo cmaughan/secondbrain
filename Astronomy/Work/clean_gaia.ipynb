{
 "cells": [
  {
   "cell_type": "code",
   "execution_count": null,
   "metadata": {},
   "outputs": [],
   "source": [
    "import pandas as pd\n",
    "import glob\n",
    "import os\n",
    "import numpy as np\n",
    "import os\n",
    "import urllib.request\n",
    "%matplotlib inline\n",
    "%config InlineBackend.figure_format = 'retina'\n",
    "\n",
    "!wget -r -np -nH --show-progress --cut-dirs=3 -P data/GaiaSource http://cdn.gea.esac.esa.int/Gaia/gedr3/gaia_source\n",
    "!gzip -d data/GaiaSource/*\n",
    "#all_files = glob.glob('data/GaiaSource/*.csv')\n",
    "all_files = [ 'processed.csv']\n",
    "#all_files = [ 'data/GaiaSource/GaiaSource_052435-052636.csv']\n",
    "data = pd.concat(map(pd.read_csv, all_files)) #('data/GaiaSource/'+root_name)\n",
    "\n",
    "# Filter out parallax errors \n",
    "data = data[['ra', 'dec', 'phot_g_mean_mag', 'parallax', 'parallax_over_error', 'bp_rp', 'visibility_periods_used',\n",
    "    'phot_g_mean_flux_over_error', 'phot_bp_mean_flux_over_error', 'phot_rp_mean_flux_over_error']]\n"
   ]
  },
  {
   "cell_type": "code",
   "execution_count": 5,
   "metadata": {},
   "outputs": [
    {
     "name": "stdout",
     "output_type": "stream",
     "text": [
      "cd: received redirection to `https://cdn.gea.esac.esa.int/Gaia/gedr3/gaia_source/'\n",
      "cd ok, cwd=/Gaia/gedr3/gaia_source\n"
     ]
    }
   ],
   "source": [
    "!lftp  -e \"du -a\" https://cdn.gea.esac.esa.int/Gaia/gedr3/gaia_source > data_files.txt\n",
    "\n",
    "\n",
    "#!wget -r -np -nH --show-progress --cut-dirs=3 -P data/GaiaSource http://cdn.gea.esac.esa.int/Gaia/gedr3/gaia_source"
   ]
  },
  {
   "cell_type": "code",
   "execution_count": null,
   "metadata": {},
   "outputs": [],
   "source": []
  }
 ],
 "metadata": {
  "interpreter": {
   "hash": "aee8b7b246df8f9039afb4144a1f6fd8d2ca17a180786b69acc140d282b71a49"
  },
  "kernelspec": {
   "display_name": "Python 3.9.1 64-bit",
   "language": "python",
   "name": "python3"
  },
  "language_info": {
   "codemirror_mode": {
    "name": "ipython",
    "version": 3
   },
   "file_extension": ".py",
   "mimetype": "text/x-python",
   "name": "python",
   "nbconvert_exporter": "python",
   "pygments_lexer": "ipython3",
   "version": "3.9.9"
  },
  "orig_nbformat": 4
 },
 "nbformat": 4,
 "nbformat_minor": 2
}
